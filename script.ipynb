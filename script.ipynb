{
 "cells": [
  {
   "cell_type": "code",
   "execution_count": 3,
   "metadata": {},
   "outputs": [],
   "source": [
    "from typing import Tuple, List\n",
    "import re"
   ]
  },
  {
   "cell_type": "markdown",
   "metadata": {},
   "source": [
    "# Главная часть"
   ]
  },
  {
   "cell_type": "code",
   "execution_count": 4,
   "metadata": {},
   "outputs": [],
   "source": [
    "def get_info(filename: str, analysys_header: str='', show: bool=True) -> List[str]:    \n",
    "    sequences = []\n",
    "    total_len = 0\n",
    "    num = 0\n",
    "    max_len = 0\n",
    "    length = 0\n",
    "    score = 0\n",
    "    curr_sequence = ''\n",
    "\n",
    "    with open(filename, 'r') as fin:\n",
    "        for line in fin:\n",
    "            if (line[0] == '>'):\n",
    "                if num != 0:\n",
    "                    sequences.append(curr_sequence)\n",
    "                num += 1\n",
    "                if length >= max_len:\n",
    "                    max_len = length\n",
    "                curr_sequence = ''\n",
    "                length = 0\n",
    "            else:\n",
    "                curr_sequence += line.strip()\n",
    "                length += len(line.strip())\n",
    "                total_len += len(line.strip())\n",
    "     \n",
    "    for seq in sorted(sequences, reverse=True, key=lambda x: len(x)):\n",
    "        i = len(seq)\n",
    "        score += i\n",
    "        if score >= total_len / 2:\n",
    "            if show == True:\n",
    "                print(f'=== {analysys_header}')\n",
    "                print(f'Общее количество: {num}')\n",
    "                print(f'Общая длина: {total_len}')\n",
    "                print(f'Длина самого длинного: {max_len}')\n",
    "                print(f'N50: {i}\\n')\n",
    "            break\n",
    "    return sequences"
   ]
  },
  {
   "cell_type": "code",
   "execution_count": 6,
   "metadata": {},
   "outputs": [],
   "source": [
    "PATH_TO_PLATANUS = 'platanus'"
   ]
  },
  {
   "cell_type": "code",
   "execution_count": 7,
   "metadata": {},
   "outputs": [
    {
     "name": "stdout",
     "output_type": "stream",
     "text": [
      "=== Анализ контигов\n",
      "Общее количество: 606\n",
      "Общая длина: 3924661\n",
      "Длина самого длинного: 179304\n",
      "N50: 52802\n",
      "\n"
     ]
    }
   ],
   "source": [
    "contigs = get_info(f'{PATH_TO_PLATANUS}/Poil_contig.fa', analysys_header='Анализ контигов')"
   ]
  },
  {
   "cell_type": "code",
   "execution_count": 12,
   "metadata": {},
   "outputs": [
    {
     "name": "stdout",
     "output_type": "stream",
     "text": [
      "=== Анализ скаффолдов\n",
      "Общее количество: 74\n",
      "Общая длина: 3874861\n",
      "Длина самого длинного: 3831351\n",
      "N50: 3831351\n",
      "\n"
     ]
    }
   ],
   "source": [
    "scaffolds = get_info(f'{PATH_TO_PLATANUS}/Poil_scaffold.fa', analysys_header='Анализ скаффолдов')"
   ]
  },
  {
   "cell_type": "code",
   "execution_count": 13,
   "metadata": {},
   "outputs": [],
   "source": [
    "def get_gap_count(sequence: str, type: str) -> Tuple[int, int]:\n",
    "    total_gap_length = sequence.count('N')\n",
    "    print(f'Общая длина гэпов [{type}]: {total_gap_length}')\n",
    "    sequence_sub = re.sub(r'N{2,}', 'N', sequence)\n",
    "    total_gap_count = sequence_sub.count('N')\n",
    "    print(f'Число гэпов: {total_gap_count}')\n",
    "    return total_gap_length, total_gap_count"
   ]
  },
  {
   "cell_type": "code",
   "execution_count": 14,
   "metadata": {},
   "outputs": [
    {
     "name": "stdout",
     "output_type": "stream",
     "text": [
      "Общая длина гэпов [не обрезанные чтения]: 5561\n",
      "Число гэпов: 63\n"
     ]
    }
   ],
   "source": [
    "gap_length, gap_count = get_gap_count(scaffolds[0], 'не обрезанные чтения')"
   ]
  },
  {
   "cell_type": "code",
   "execution_count": 17,
   "metadata": {},
   "outputs": [],
   "source": [
    "scaffolds_gap_closed = get_info(f'{PATH_TO_PLATANUS}/Poil_gapClosed.fa', show=False)"
   ]
  },
  {
   "cell_type": "code",
   "execution_count": 18,
   "metadata": {},
   "outputs": [
    {
     "name": "stdout",
     "output_type": "stream",
     "text": [
      "Общая длина гэпов [обрезанные чтения]: 1766\n",
      "Число гэпов: 10\n"
     ]
    }
   ],
   "source": [
    "gap_length_closed, gap_count_closed = get_gap_count(scaffolds_gap_closed[0], 'обрезанные чтения')"
   ]
  },
  {
   "cell_type": "code",
   "execution_count": 22,
   "metadata": {},
   "outputs": [],
   "source": [
    "# save data\n",
    "\n",
    "with open('data\\contigs.fasta', 'w') as configs_file:\n",
    "        for contig in contigs:\n",
    "            configs_file.write(contig)\n",
    "            configs_file.write('\\n')\n",
    "\n",
    "with open('data\\scaffolds.fasta', 'w') as scaffolds_file:\n",
    "    for scaffold in scaffolds_gap_closed:\n",
    "        scaffolds_file.write(scaffold)\n",
    "        scaffolds_file.write('\\n')\n",
    "\n",
    "with open('data\\longest.fasta', 'w') as longest_file:\n",
    "    longest_file.write(scaffolds[0])"
   ]
  },
  {
   "cell_type": "markdown",
   "metadata": {},
   "source": [
    "# Доп. часть"
   ]
  },
  {
   "cell_type": "code",
   "execution_count": 23,
   "metadata": {},
   "outputs": [
    {
     "name": "stdout",
     "output_type": "stream",
     "text": [
      "=== Анализ контигов [100%]\n",
      "Общее количество: 606\n",
      "Общая длина: 3924661\n",
      "Длина самого длинного: 179304\n",
      "N50: 52802\n",
      "\n"
     ]
    }
   ],
   "source": [
    "contigs = get_info(f'{PATH_TO_PLATANUS}/Poil_contig.fa', analysys_header='Анализ контигов [100%]')"
   ]
  },
  {
   "cell_type": "code",
   "execution_count": 25,
   "metadata": {},
   "outputs": [
    {
     "name": "stdout",
     "output_type": "stream",
     "text": [
      "=== Анализ скаффолдов [100%]\n",
      "Общее количество: 74\n",
      "Общая длина: 3874861\n",
      "Длина самого длинного: 3831351\n",
      "N50: 3831351\n",
      "\n"
     ]
    }
   ],
   "source": [
    "scaffolds = get_info(f'{PATH_TO_PLATANUS}/Poil_scaffold.fa', analysys_header='Анализ скаффолдов [100%]')"
   ]
  },
  {
   "cell_type": "code",
   "execution_count": 27,
   "metadata": {},
   "outputs": [
    {
     "name": "stdout",
     "output_type": "stream",
     "text": [
      "=== \n",
      "Общее количество: 74\n",
      "Общая длина: 3911655\n",
      "Длина самого длинного: 3867817\n",
      "N50: 3867817\n",
      "\n"
     ]
    }
   ],
   "source": [
    "scaffolds_gap_closed = get_info(f'{PATH_TO_PLATANUS}/Poil_gapClosed.fa')"
   ]
  }
 ],
 "metadata": {
  "kernelspec": {
   "display_name": "Python 3.9.7 ('base')",
   "language": "python",
   "name": "python3"
  },
  "language_info": {
   "codemirror_mode": {
    "name": "ipython",
    "version": 3
   },
   "file_extension": ".py",
   "mimetype": "text/x-python",
   "name": "python",
   "nbconvert_exporter": "python",
   "pygments_lexer": "ipython3",
   "version": "3.9.7"
  },
  "orig_nbformat": 4,
  "vscode": {
   "interpreter": {
    "hash": "cfabe1ae2132f4ae5aa7f9aa3d20d6495c80138fd09a970985b78c91aeadec25"
   }
  }
 },
 "nbformat": 4,
 "nbformat_minor": 2
}
